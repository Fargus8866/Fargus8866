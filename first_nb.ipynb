{
  "nbformat": 4,
  "nbformat_minor": 0,
  "metadata": {
    "colab": {
      "provenance": [],
      "gpuType": "T4",
      "authorship_tag": "ABX9TyP7JD5pu10l6p0RgHnfduT9",
      "include_colab_link": true
    },
    "kernelspec": {
      "name": "python3",
      "display_name": "Python 3"
    },
    "language_info": {
      "name": "python"
    },
    "accelerator": "GPU"
  },
  "cells": [
    {
      "cell_type": "markdown",
      "metadata": {
        "id": "view-in-github",
        "colab_type": "text"
      },
      "source": [
        "<a href=\"https://colab.research.google.com/github/Fargus8866/Fargus8866/blob/main/first_nb.ipynb\" target=\"_parent\"><img src=\"https://colab.research.google.com/assets/colab-badge.svg\" alt=\"Open In Colab\"/></a>"
      ]
    },
    {
      "cell_type": "code",
      "source": [
        "import numpy as np\n",
        "import random\n",
        "arr=np.arange(10,100,10)\n",
        "arr[3:]\n",
        "\n"
      ],
      "metadata": {
        "id": "qyITDM-5Qdpq",
        "colab": {
          "base_uri": "https://localhost:8080/"
        },
        "outputId": "204c96a6-0b2e-464b-b280-80cf2f52f689"
      },
      "execution_count": 4,
      "outputs": [
        {
          "output_type": "execute_result",
          "data": {
            "text/plain": [
              "array([40, 50, 60, 70, 80, 90])"
            ]
          },
          "metadata": {},
          "execution_count": 4
        }
      ]
    },
    {
      "cell_type": "code",
      "source": [
        "arr1=arr[3:6].copy()\n",
        "arr1"
      ],
      "metadata": {
        "colab": {
          "base_uri": "https://localhost:8080/"
        },
        "id": "Ixvzp057VxbC",
        "outputId": "8acdd42a-45aa-41fa-ccda-900c1e2cd664"
      },
      "execution_count": 23,
      "outputs": [
        {
          "output_type": "execute_result",
          "data": {
            "text/plain": [
              "array([40, 50, 60])"
            ]
          },
          "metadata": {},
          "execution_count": 23
        }
      ]
    },
    {
      "cell_type": "code",
      "source": [
        "arr1[:]=0"
      ],
      "metadata": {
        "id": "9B2f00efV7PZ"
      },
      "execution_count": 24,
      "outputs": []
    },
    {
      "cell_type": "code",
      "source": [
        "arr1"
      ],
      "metadata": {
        "colab": {
          "base_uri": "https://localhost:8080/"
        },
        "id": "gGdBxmWYWAUm",
        "outputId": "f62f927b-5d8e-41c6-c1c1-b88999c70ccd"
      },
      "execution_count": 25,
      "outputs": [
        {
          "output_type": "execute_result",
          "data": {
            "text/plain": [
              "array([0, 0, 0])"
            ]
          },
          "metadata": {},
          "execution_count": 25
        }
      ]
    },
    {
      "cell_type": "code",
      "source": [
        "arr"
      ],
      "metadata": {
        "colab": {
          "base_uri": "https://localhost:8080/"
        },
        "id": "eQYZn41XWBcc",
        "outputId": "99f8565e-aba3-40e0-ba3b-15ec25022959"
      },
      "execution_count": 26,
      "outputs": [
        {
          "output_type": "execute_result",
          "data": {
            "text/plain": [
              "array([10, 20, 30, 40, 50, 60, 70, 80, 90])"
            ]
          },
          "metadata": {},
          "execution_count": 26
        }
      ]
    },
    {
      "cell_type": "code",
      "source": [
        "arr2d=np.random.randint(1,100,size=(3,3))\n",
        "arr2d"
      ],
      "metadata": {
        "colab": {
          "base_uri": "https://localhost:8080/"
        },
        "id": "x1rPsY2LWC2C",
        "outputId": "64f3445d-6f3c-4fd9-ac38-a18787266946"
      },
      "execution_count": 27,
      "outputs": [
        {
          "output_type": "execute_result",
          "data": {
            "text/plain": [
              "array([[42, 63, 29],\n",
              "       [67, 69, 15],\n",
              "       [99, 11, 38]])"
            ]
          },
          "metadata": {},
          "execution_count": 27
        }
      ]
    },
    {
      "cell_type": "code",
      "source": [
        "arr2d[2,2]"
      ],
      "metadata": {
        "colab": {
          "base_uri": "https://localhost:8080/"
        },
        "id": "F6Ol9mgIWwcR",
        "outputId": "d5263719-8a3f-4fd0-a5bd-c7662563a442"
      },
      "execution_count": 29,
      "outputs": [
        {
          "output_type": "execute_result",
          "data": {
            "text/plain": [
              "38"
            ]
          },
          "metadata": {},
          "execution_count": 29
        }
      ]
    },
    {
      "cell_type": "code",
      "source": [
        "arr22=arr2d[2,0:3]\n",
        "arr22"
      ],
      "metadata": {
        "colab": {
          "base_uri": "https://localhost:8080/"
        },
        "id": "cUiLKXVcW2dt",
        "outputId": "f00e72bb-3869-46c8-b3fd-95f225f452a1"
      },
      "execution_count": 30,
      "outputs": [
        {
          "output_type": "execute_result",
          "data": {
            "text/plain": [
              "array([99, 11, 38])"
            ]
          },
          "metadata": {},
          "execution_count": 30
        }
      ]
    },
    {
      "cell_type": "code",
      "source": [
        "arrd=np.array\n",
        "arrd"
      ],
      "metadata": {
        "colab": {
          "base_uri": "https://localhost:8080/"
        },
        "id": "kNyQ7gR4YT4o",
        "outputId": "07077fa7-838a-4916-b212-d3578e3ebc04"
      },
      "execution_count": 31,
      "outputs": [
        {
          "output_type": "execute_result",
          "data": {
            "text/plain": [
              "<function numpy.array>"
            ]
          },
          "metadata": {},
          "execution_count": 31
        }
      ]
    },
    {
      "cell_type": "code",
      "source": [
        "arrd=np.random.randint(1,100,size=(3,3,3))\n",
        "arrd"
      ],
      "metadata": {
        "colab": {
          "base_uri": "https://localhost:8080/"
        },
        "id": "fqNkQ4fZZgnR",
        "outputId": "a3fb6813-8edb-4692-ffc1-bf2a24a7be71"
      },
      "execution_count": 35,
      "outputs": [
        {
          "output_type": "execute_result",
          "data": {
            "text/plain": [
              "array([[[26, 50, 91],\n",
              "        [70, 31, 17],\n",
              "        [ 6, 64, 48]],\n",
              "\n",
              "       [[56, 86, 39],\n",
              "        [52, 87, 53],\n",
              "        [91, 27, 29]],\n",
              "\n",
              "       [[72, 67, 21],\n",
              "        [52, 22, 76],\n",
              "        [69, 62,  6]]])"
            ]
          },
          "metadata": {},
          "execution_count": 35
        }
      ]
    },
    {
      "cell_type": "code",
      "source": [
        "arrd[0][1,1]"
      ],
      "metadata": {
        "colab": {
          "base_uri": "https://localhost:8080/"
        },
        "id": "NrTSGPQRZk8D",
        "outputId": "9588356b-2acd-493b-b93c-4a2ebc207d9d"
      },
      "execution_count": 36,
      "outputs": [
        {
          "output_type": "execute_result",
          "data": {
            "text/plain": [
              "31"
            ]
          },
          "metadata": {},
          "execution_count": 36
        }
      ]
    },
    {
      "cell_type": "code",
      "source": [
        "arrd[1][2,1]"
      ],
      "metadata": {
        "colab": {
          "base_uri": "https://localhost:8080/"
        },
        "id": "W5ZoIs5raWNL",
        "outputId": "d0b24004-3961-4b67-870c-de2750339938"
      },
      "execution_count": 37,
      "outputs": [
        {
          "output_type": "execute_result",
          "data": {
            "text/plain": [
              "27"
            ]
          },
          "metadata": {},
          "execution_count": 37
        }
      ]
    },
    {
      "cell_type": "code",
      "source": [
        "input()"
      ],
      "metadata": {
        "colab": {
          "base_uri": "https://localhost:8080/",
          "height": 54
        },
        "id": "k_5GfYKXaZgi",
        "outputId": "931bfb92-09a5-4e0b-c65f-41b409ac9661"
      },
      "execution_count": 38,
      "outputs": [
        {
          "name": "stdout",
          "output_type": "stream",
          "text": [
            "dfgdfgdfg\n"
          ]
        },
        {
          "output_type": "execute_result",
          "data": {
            "text/plain": [
              "'dfgdfgdfg'"
            ],
            "application/vnd.google.colaboratory.intrinsic+json": {
              "type": "string"
            }
          },
          "metadata": {},
          "execution_count": 38
        }
      ]
    },
    {
      "cell_type": "code",
      "source": [
        "ismlar=[]\n",
        "for i in range(3):\n",
        "  ismlar.append(input(\"Ism kiriting: >>> \"))\n",
        "arrism=np.array(ismlar)\n",
        "arrism"
      ],
      "metadata": {
        "colab": {
          "base_uri": "https://localhost:8080/"
        },
        "id": "pMAsxhshcYnK",
        "outputId": "35f10b37-2676-486b-9942-604c1784bf4f"
      },
      "execution_count": 5,
      "outputs": [
        {
          "name": "stdout",
          "output_type": "stream",
          "text": [
            "Ism kiriting: >>> sdfsdf\n",
            "Ism kiriting: >>> sdgdfg\n",
            "Ism kiriting: >>> sdfasd\n"
          ]
        },
        {
          "output_type": "execute_result",
          "data": {
            "text/plain": [
              "array(['sdfsdf', 'sdgdfg', 'sdfasd'], dtype='<U6')"
            ]
          },
          "metadata": {},
          "execution_count": 5
        }
      ]
    },
    {
      "cell_type": "code",
      "source": [
        "date=np.random.randn(6,5)\n",
        "date"
      ],
      "metadata": {
        "colab": {
          "base_uri": "https://localhost:8080/"
        },
        "id": "1TN7PV55cwtk",
        "outputId": "55a63def-b1aa-414d-af10-84eaca61efff"
      },
      "execution_count": 40,
      "outputs": [
        {
          "output_type": "execute_result",
          "data": {
            "text/plain": [
              "array([[ 0.36122601, -0.12756982, -0.55892913, -0.18198913,  1.60766071],\n",
              "       [-0.18214693,  1.96168103, -1.21077277,  0.92171138, -0.86889179],\n",
              "       [-1.78324251,  0.07071176, -1.86193994,  1.53990283, -1.14148519],\n",
              "       [-0.07439047,  0.21233676, -2.03731805,  0.289961  , -0.92753317],\n",
              "       [ 1.03723425, -0.02513013,  0.78411867, -0.61331728, -1.04616335],\n",
              "       [ 0.22618001, -0.57277416,  0.8799807 ,  0.83318726,  0.2991275 ]])"
            ]
          },
          "metadata": {},
          "execution_count": 40
        }
      ]
    },
    {
      "cell_type": "code",
      "source": [
        "date[arrism!='shix']"
      ],
      "metadata": {
        "colab": {
          "base_uri": "https://localhost:8080/"
        },
        "id": "cgLdWjtwdHN0",
        "outputId": "77c98031-a65a-4cb0-a319-3704e5a95b69"
      },
      "execution_count": 42,
      "outputs": [
        {
          "output_type": "execute_result",
          "data": {
            "text/plain": [
              "array([[ 0.36122601, -0.12756982, -0.55892913, -0.18198913,  1.60766071],\n",
              "       [-1.78324251,  0.07071176, -1.86193994,  1.53990283, -1.14148519],\n",
              "       [-0.07439047,  0.21233676, -2.03731805,  0.289961  , -0.92753317],\n",
              "       [ 1.03723425, -0.02513013,  0.78411867, -0.61331728, -1.04616335],\n",
              "       [ 0.22618001, -0.57277416,  0.8799807 ,  0.83318726,  0.2991275 ]])"
            ]
          },
          "metadata": {},
          "execution_count": 42
        }
      ]
    },
    {
      "cell_type": "code",
      "source": [
        "arr8 = np.arange(0, 9).reshape(3, 3)\n",
        "arr8"
      ],
      "metadata": {
        "colab": {
          "base_uri": "https://localhost:8080/"
        },
        "id": "7rQGS7_wdVaa",
        "outputId": "9b04f027-2ccd-4cb8-b0fb-756f714669b7"
      },
      "execution_count": 66,
      "outputs": [
        {
          "output_type": "execute_result",
          "data": {
            "text/plain": [
              "array([[0, 1, 2],\n",
              "       [3, 4, 5],\n",
              "       [6, 7, 8]])"
            ]
          },
          "metadata": {},
          "execution_count": 66
        }
      ]
    },
    {
      "cell_type": "code",
      "source": [
        "arr8[2,:2]"
      ],
      "metadata": {
        "colab": {
          "base_uri": "https://localhost:8080/"
        },
        "id": "cHDmw3KKfEju",
        "outputId": "0fd09d1f-33c6-47c8-b054-c59cf9c6b56e"
      },
      "execution_count": 68,
      "outputs": [
        {
          "output_type": "execute_result",
          "data": {
            "text/plain": [
              "array([6, 7])"
            ]
          },
          "metadata": {},
          "execution_count": 68
        }
      ]
    },
    {
      "cell_type": "code",
      "source": [
        "arr9=np.array(list(range(27))).reshape(3,3,3)\n",
        "arr9"
      ],
      "metadata": {
        "colab": {
          "base_uri": "https://localhost:8080/"
        },
        "id": "kYJmFR4ujAR5",
        "outputId": "8d0f931e-6ae9-449c-fff7-b7f16ce7a1eb"
      },
      "execution_count": 4,
      "outputs": [
        {
          "output_type": "execute_result",
          "data": {
            "text/plain": [
              "array([[[ 0,  1,  2],\n",
              "        [ 3,  4,  5],\n",
              "        [ 6,  7,  8]],\n",
              "\n",
              "       [[ 9, 10, 11],\n",
              "        [12, 13, 14],\n",
              "        [15, 16, 17]],\n",
              "\n",
              "       [[18, 19, 20],\n",
              "        [21, 22, 23],\n",
              "        [24, 25, 26]]])"
            ]
          },
          "metadata": {},
          "execution_count": 4
        }
      ]
    },
    {
      "cell_type": "code",
      "source": [
        "arr=np.array([[[ 0,  1,  2],\n",
        "                [ 3,  4,  5],\n",
        "                [ 6,  7,  8]],\n",
        "\n",
        "               [[ 9, 10, 11],\n",
        "                [12, 13, 14],\n",
        "                [15, 16, 17]],\n",
        "\n",
        "               [[18, 19, 20],\n",
        "                [21, 22, 23],\n",
        "                [24, 25, 26]]])\n",
        "arr[1]"
      ],
      "metadata": {
        "colab": {
          "base_uri": "https://localhost:8080/"
        },
        "id": "ke2jVjclp29E",
        "outputId": "d4bcf62b-6065-482f-f1d3-40666029d981"
      },
      "execution_count": 8,
      "outputs": [
        {
          "output_type": "execute_result",
          "data": {
            "text/plain": [
              "array([[ 9, 10, 11],\n",
              "       [12, 13, 14],\n",
              "       [15, 16, 17]])"
            ]
          },
          "metadata": {},
          "execution_count": 8
        }
      ]
    },
    {
      "cell_type": "code",
      "source": [
        "arr98=arr[1]\n",
        "arr98\n",
        "np.array(arr98[1:,:2])"
      ],
      "metadata": {
        "colab": {
          "base_uri": "https://localhost:8080/"
        },
        "id": "nYNtBigBqswR",
        "outputId": "4fd1af00-964f-4920-8638-71b5e709096a"
      },
      "execution_count": 40,
      "outputs": [
        {
          "output_type": "execute_result",
          "data": {
            "text/plain": [
              "array([[12, 13],\n",
              "       [15, 16]])"
            ]
          },
          "metadata": {},
          "execution_count": 40
        }
      ]
    },
    {
      "cell_type": "code",
      "source": [
        "ismlar=np.array(['Hasan', 'Husan', 'Javohir', 'Elyor', 'Hasan', 'Javohir', 'Elyor'])\n",
        "data=np.array([[5, 6, 1, 1],\n",
        "    [9, 1, 1, 1],\n",
        "    [7, 7, 4, 2],\n",
        "    [1, 5, 1, 9],\n",
        "    [9, 9, 4, 5],\n",
        "    [7, 5, 9, 6],\n",
        "    [5, 3, 7, 4]])\n",
        "mask = (ismlar == 'Javohir') | (ismlar == 'Elyor')\n",
        "data[mask]\n",
        "arr2=data[mask].copy()\n",
        "arr2"
      ],
      "metadata": {
        "colab": {
          "base_uri": "https://localhost:8080/"
        },
        "id": "14X41rNrrFQC",
        "outputId": "d65fd4e8-bcc5-4cc2-8b3d-7773d19de366"
      },
      "execution_count": 58,
      "outputs": [
        {
          "output_type": "execute_result",
          "data": {
            "text/plain": [
              "array([[7, 7, 4, 2],\n",
              "       [1, 5, 1, 9],\n",
              "       [7, 5, 9, 6],\n",
              "       [5, 3, 7, 4]])"
            ]
          },
          "metadata": {},
          "execution_count": 58
        }
      ]
    },
    {
      "cell_type": "code",
      "source": [],
      "metadata": {
        "id": "4geNebVx3GYM"
      },
      "execution_count": null,
      "outputs": []
    }
  ]
}